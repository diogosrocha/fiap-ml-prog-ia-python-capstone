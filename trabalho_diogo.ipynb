{
 "cells": [
  {
   "cell_type": "markdown",
   "metadata": {},
   "source": [
    "Implementação\n",
    "\n",
    "Carregue o dataset \"automobile-mod.csv\" que se encontra na pasta \"data\" e faça uma inspeção nas 10 primeiras linhas para identificação básica dos atributos."
   ]
  },
  {
   "cell_type": "code",
   "execution_count": 5,
   "metadata": {},
   "outputs": [],
   "source": [
    "import seaborn as sns\n",
    "import matplotlib.pyplot as plt\n",
    "import pandas as pd\n",
    "import numpy as np\n",
    "\n",
    "%matplotlib inline"
   ]
  },
  {
   "cell_type": "code",
   "execution_count": 6,
   "metadata": {
    "collapsed": true
   },
   "outputs": [
    {
     "data": {
      "text/html": [
       "<div>\n",
       "<style scoped>\n",
       "    .dataframe tbody tr th:only-of-type {\n",
       "        vertical-align: middle;\n",
       "    }\n",
       "\n",
       "    .dataframe tbody tr th {\n",
       "        vertical-align: top;\n",
       "    }\n",
       "\n",
       "    .dataframe thead th {\n",
       "        text-align: right;\n",
       "    }\n",
       "</style>\n",
       "<table border=\"1\" class=\"dataframe\">\n",
       "  <thead>\n",
       "    <tr style=\"text-align: right;\">\n",
       "      <th></th>\n",
       "      <th>make</th>\n",
       "      <th>fuel_type</th>\n",
       "      <th>aspiration</th>\n",
       "      <th>number_of_doors</th>\n",
       "      <th>body_style</th>\n",
       "      <th>drive_wheels</th>\n",
       "      <th>engine_location</th>\n",
       "      <th>wheel_base</th>\n",
       "      <th>length</th>\n",
       "      <th>width</th>\n",
       "      <th>...</th>\n",
       "      <th>engine_size</th>\n",
       "      <th>fuel_system</th>\n",
       "      <th>bore</th>\n",
       "      <th>stroke</th>\n",
       "      <th>compression_ratio</th>\n",
       "      <th>horsepower</th>\n",
       "      <th>peak_rpm</th>\n",
       "      <th>city_mpg</th>\n",
       "      <th>highway_mpg</th>\n",
       "      <th>price</th>\n",
       "    </tr>\n",
       "  </thead>\n",
       "  <tbody>\n",
       "    <tr>\n",
       "      <th>0</th>\n",
       "      <td>alfa-romero</td>\n",
       "      <td>gas</td>\n",
       "      <td>std</td>\n",
       "      <td>two</td>\n",
       "      <td>convertible</td>\n",
       "      <td>rwd</td>\n",
       "      <td>front</td>\n",
       "      <td>88.6</td>\n",
       "      <td>168.8</td>\n",
       "      <td>64.1</td>\n",
       "      <td>...</td>\n",
       "      <td>130</td>\n",
       "      <td>mpfi</td>\n",
       "      <td>3.47</td>\n",
       "      <td>2.68</td>\n",
       "      <td>9.0</td>\n",
       "      <td>111</td>\n",
       "      <td>5000.0</td>\n",
       "      <td>21.0</td>\n",
       "      <td>27.0</td>\n",
       "      <td>13495</td>\n",
       "    </tr>\n",
       "    <tr>\n",
       "      <th>1</th>\n",
       "      <td>alfa-romero</td>\n",
       "      <td>gas</td>\n",
       "      <td>std</td>\n",
       "      <td>two</td>\n",
       "      <td>convertible</td>\n",
       "      <td>rwd</td>\n",
       "      <td>front</td>\n",
       "      <td>88.6</td>\n",
       "      <td>168.8</td>\n",
       "      <td>64.1</td>\n",
       "      <td>...</td>\n",
       "      <td>130</td>\n",
       "      <td>mpfi</td>\n",
       "      <td>3.47</td>\n",
       "      <td>2.68</td>\n",
       "      <td>9.0</td>\n",
       "      <td>111</td>\n",
       "      <td>5000.0</td>\n",
       "      <td>21.0</td>\n",
       "      <td>27.0</td>\n",
       "      <td>16500</td>\n",
       "    </tr>\n",
       "    <tr>\n",
       "      <th>2</th>\n",
       "      <td>alfa-romero</td>\n",
       "      <td>gas</td>\n",
       "      <td>std</td>\n",
       "      <td>two</td>\n",
       "      <td>hatchback</td>\n",
       "      <td>rwd</td>\n",
       "      <td>front</td>\n",
       "      <td>94.5</td>\n",
       "      <td>171.2</td>\n",
       "      <td>65.5</td>\n",
       "      <td>...</td>\n",
       "      <td>152</td>\n",
       "      <td>mpfi</td>\n",
       "      <td>2.68</td>\n",
       "      <td>3.47</td>\n",
       "      <td>9.0</td>\n",
       "      <td>154</td>\n",
       "      <td>5000.0</td>\n",
       "      <td>19.0</td>\n",
       "      <td>26.0</td>\n",
       "      <td>16500</td>\n",
       "    </tr>\n",
       "    <tr>\n",
       "      <th>3</th>\n",
       "      <td>audi</td>\n",
       "      <td>gas</td>\n",
       "      <td>std</td>\n",
       "      <td>four</td>\n",
       "      <td>sedan</td>\n",
       "      <td>fwd</td>\n",
       "      <td>front</td>\n",
       "      <td>99.8</td>\n",
       "      <td>176.6</td>\n",
       "      <td>66.2</td>\n",
       "      <td>...</td>\n",
       "      <td>109</td>\n",
       "      <td>mpfi</td>\n",
       "      <td>3.19</td>\n",
       "      <td>3.40</td>\n",
       "      <td>10.0</td>\n",
       "      <td>102</td>\n",
       "      <td>5500.0</td>\n",
       "      <td>24.0</td>\n",
       "      <td>30.0</td>\n",
       "      <td>13950</td>\n",
       "    </tr>\n",
       "    <tr>\n",
       "      <th>4</th>\n",
       "      <td>audi</td>\n",
       "      <td>gas</td>\n",
       "      <td>std</td>\n",
       "      <td>four</td>\n",
       "      <td>sedan</td>\n",
       "      <td>4wd</td>\n",
       "      <td>front</td>\n",
       "      <td>99.4</td>\n",
       "      <td>176.6</td>\n",
       "      <td>66.4</td>\n",
       "      <td>...</td>\n",
       "      <td>136</td>\n",
       "      <td>mpfi</td>\n",
       "      <td>3.19</td>\n",
       "      <td>3.40</td>\n",
       "      <td>8.0</td>\n",
       "      <td>115</td>\n",
       "      <td>5500.0</td>\n",
       "      <td>18.0</td>\n",
       "      <td>22.0</td>\n",
       "      <td>17450</td>\n",
       "    </tr>\n",
       "    <tr>\n",
       "      <th>5</th>\n",
       "      <td>audi</td>\n",
       "      <td>gas</td>\n",
       "      <td>std</td>\n",
       "      <td>two</td>\n",
       "      <td>sedan</td>\n",
       "      <td>fwd</td>\n",
       "      <td>front</td>\n",
       "      <td>99.8</td>\n",
       "      <td>177.3</td>\n",
       "      <td>66.3</td>\n",
       "      <td>...</td>\n",
       "      <td>136</td>\n",
       "      <td>mpfi</td>\n",
       "      <td>3.19</td>\n",
       "      <td>3.40</td>\n",
       "      <td>8.5</td>\n",
       "      <td>110</td>\n",
       "      <td>5500.0</td>\n",
       "      <td>19.0</td>\n",
       "      <td>25.0</td>\n",
       "      <td>15250</td>\n",
       "    </tr>\n",
       "    <tr>\n",
       "      <th>6</th>\n",
       "      <td>audi</td>\n",
       "      <td>gas</td>\n",
       "      <td>std</td>\n",
       "      <td>four</td>\n",
       "      <td>sedan</td>\n",
       "      <td>fwd</td>\n",
       "      <td>front</td>\n",
       "      <td>105.8</td>\n",
       "      <td>192.7</td>\n",
       "      <td>71.4</td>\n",
       "      <td>...</td>\n",
       "      <td>136</td>\n",
       "      <td>mpfi</td>\n",
       "      <td>3.19</td>\n",
       "      <td>3.40</td>\n",
       "      <td>8.5</td>\n",
       "      <td>110</td>\n",
       "      <td>5500.0</td>\n",
       "      <td>19.0</td>\n",
       "      <td>25.0</td>\n",
       "      <td>17710</td>\n",
       "    </tr>\n",
       "    <tr>\n",
       "      <th>7</th>\n",
       "      <td>audi</td>\n",
       "      <td>gas</td>\n",
       "      <td>std</td>\n",
       "      <td>four</td>\n",
       "      <td>wagon</td>\n",
       "      <td>fwd</td>\n",
       "      <td>front</td>\n",
       "      <td>105.8</td>\n",
       "      <td>192.7</td>\n",
       "      <td>71.4</td>\n",
       "      <td>...</td>\n",
       "      <td>136</td>\n",
       "      <td>mpfi</td>\n",
       "      <td>3.19</td>\n",
       "      <td>3.40</td>\n",
       "      <td>8.5</td>\n",
       "      <td>110</td>\n",
       "      <td>5500.0</td>\n",
       "      <td>19.0</td>\n",
       "      <td>25.0</td>\n",
       "      <td>18920</td>\n",
       "    </tr>\n",
       "    <tr>\n",
       "      <th>8</th>\n",
       "      <td>audi</td>\n",
       "      <td>gas</td>\n",
       "      <td>turbo</td>\n",
       "      <td>four</td>\n",
       "      <td>sedan</td>\n",
       "      <td>fwd</td>\n",
       "      <td>front</td>\n",
       "      <td>105.8</td>\n",
       "      <td>192.7</td>\n",
       "      <td>71.4</td>\n",
       "      <td>...</td>\n",
       "      <td>131</td>\n",
       "      <td>mpfi</td>\n",
       "      <td>3.13</td>\n",
       "      <td>3.40</td>\n",
       "      <td>8.3</td>\n",
       "      <td>140</td>\n",
       "      <td>5500.0</td>\n",
       "      <td>17.0</td>\n",
       "      <td>20.0</td>\n",
       "      <td>23875</td>\n",
       "    </tr>\n",
       "    <tr>\n",
       "      <th>9</th>\n",
       "      <td>bmw</td>\n",
       "      <td>gas</td>\n",
       "      <td>std</td>\n",
       "      <td>two</td>\n",
       "      <td>sedan</td>\n",
       "      <td>rwd</td>\n",
       "      <td>front</td>\n",
       "      <td>101.2</td>\n",
       "      <td>176.8</td>\n",
       "      <td>64.8</td>\n",
       "      <td>...</td>\n",
       "      <td>108</td>\n",
       "      <td>mpfi</td>\n",
       "      <td>3.50</td>\n",
       "      <td>2.80</td>\n",
       "      <td>8.8</td>\n",
       "      <td>101</td>\n",
       "      <td>5800.0</td>\n",
       "      <td>23.0</td>\n",
       "      <td>29.0</td>\n",
       "      <td>16430</td>\n",
       "    </tr>\n",
       "    <tr>\n",
       "      <th>10</th>\n",
       "      <td>bmw</td>\n",
       "      <td>gas</td>\n",
       "      <td>std</td>\n",
       "      <td>four</td>\n",
       "      <td>sedan</td>\n",
       "      <td>rwd</td>\n",
       "      <td>front</td>\n",
       "      <td>101.2</td>\n",
       "      <td>176.8</td>\n",
       "      <td>64.8</td>\n",
       "      <td>...</td>\n",
       "      <td>108</td>\n",
       "      <td>mpfi</td>\n",
       "      <td>3.50</td>\n",
       "      <td>2.80</td>\n",
       "      <td>8.8</td>\n",
       "      <td>101</td>\n",
       "      <td>5800.0</td>\n",
       "      <td>23.0</td>\n",
       "      <td>29.0</td>\n",
       "      <td>16925</td>\n",
       "    </tr>\n",
       "  </tbody>\n",
       "</table>\n",
       "<p>11 rows × 24 columns</p>\n",
       "</div>"
      ],
      "text/plain": [
       "           make fuel_type aspiration number_of_doors   body_style  \\\n",
       "0   alfa-romero       gas        std             two  convertible   \n",
       "1   alfa-romero       gas        std             two  convertible   \n",
       "2   alfa-romero       gas        std             two    hatchback   \n",
       "3          audi       gas        std            four        sedan   \n",
       "4          audi       gas        std            four        sedan   \n",
       "5          audi       gas        std             two        sedan   \n",
       "6          audi       gas        std            four        sedan   \n",
       "7          audi       gas        std            four        wagon   \n",
       "8          audi       gas      turbo            four        sedan   \n",
       "9           bmw       gas        std             two        sedan   \n",
       "10          bmw       gas        std            four        sedan   \n",
       "\n",
       "   drive_wheels engine_location  wheel_base  length  width  ...    \\\n",
       "0           rwd           front        88.6   168.8   64.1  ...     \n",
       "1           rwd           front        88.6   168.8   64.1  ...     \n",
       "2           rwd           front        94.5   171.2   65.5  ...     \n",
       "3           fwd           front        99.8   176.6   66.2  ...     \n",
       "4           4wd           front        99.4   176.6   66.4  ...     \n",
       "5           fwd           front        99.8   177.3   66.3  ...     \n",
       "6           fwd           front       105.8   192.7   71.4  ...     \n",
       "7           fwd           front       105.8   192.7   71.4  ...     \n",
       "8           fwd           front       105.8   192.7   71.4  ...     \n",
       "9           rwd           front       101.2   176.8   64.8  ...     \n",
       "10          rwd           front       101.2   176.8   64.8  ...     \n",
       "\n",
       "    engine_size  fuel_system  bore stroke  compression_ratio horsepower  \\\n",
       "0           130         mpfi  3.47   2.68                9.0        111   \n",
       "1           130         mpfi  3.47   2.68                9.0        111   \n",
       "2           152         mpfi  2.68   3.47                9.0        154   \n",
       "3           109         mpfi  3.19   3.40               10.0        102   \n",
       "4           136         mpfi  3.19   3.40                8.0        115   \n",
       "5           136         mpfi  3.19   3.40                8.5        110   \n",
       "6           136         mpfi  3.19   3.40                8.5        110   \n",
       "7           136         mpfi  3.19   3.40                8.5        110   \n",
       "8           131         mpfi  3.13   3.40                8.3        140   \n",
       "9           108         mpfi  3.50   2.80                8.8        101   \n",
       "10          108         mpfi  3.50   2.80                8.8        101   \n",
       "\n",
       "    peak_rpm  city_mpg  highway_mpg  price  \n",
       "0     5000.0      21.0         27.0  13495  \n",
       "1     5000.0      21.0         27.0  16500  \n",
       "2     5000.0      19.0         26.0  16500  \n",
       "3     5500.0      24.0         30.0  13950  \n",
       "4     5500.0      18.0         22.0  17450  \n",
       "5     5500.0      19.0         25.0  15250  \n",
       "6     5500.0      19.0         25.0  17710  \n",
       "7     5500.0      19.0         25.0  18920  \n",
       "8     5500.0      17.0         20.0  23875  \n",
       "9     5800.0      23.0         29.0  16430  \n",
       "10    5800.0      23.0         29.0  16925  \n",
       "\n",
       "[11 rows x 24 columns]"
      ]
     },
     "execution_count": 6,
     "metadata": {},
     "output_type": "execute_result"
    }
   ],
   "source": [
    "from pandas import*\n",
    "df_csv = pd.read_csv(\"automobile-mod.csv\",sep=\";\")\n",
    "df_csv.head(11)"
   ]
  },
  {
   "cell_type": "markdown",
   "metadata": {},
   "source": [
    "Correlacionamento dos atributos\n",
    "Vamos utilizar algumas suposições e validar se elas são verdadeiras, por exemplo, o preço do carro pode variar com seu consumo, tamanho ou força? Vamos explorar estas hipósteses ou outras que o grupo julgue relevante."
   ]
  },
  {
   "cell_type": "markdown",
   "metadata": {},
   "source": [
    "Os comandos abaixo demonstram analises pelo tipo do carro e tamanho, estamos analisamos o preço médio do carro diante desses atributos. "
   ]
  },
  {
   "cell_type": "code",
   "execution_count": 13,
   "metadata": {
    "collapsed": true
   },
   "outputs": [
    {
     "data": {
      "text/plain": [
       "body_style  length\n",
       "sedan       158.8      6575.000000\n",
       "            170.7      6785.000000\n",
       "            165.3      6815.666667\n",
       "            166.8      7045.000000\n",
       "            167.3      7150.500000\n",
       "            163.4      7295.000000\n",
       "            157.3      7619.666667\n",
       "            166.3      7958.000000\n",
       "            172.4      8434.000000\n",
       "            171.7      8560.714286\n",
       "            168.7      8678.000000\n",
       "            172.0      9070.600000\n",
       "            173.4      9549.000000\n",
       "            177.8      9845.000000\n",
       "            175.6     10181.333333\n",
       "            169.1     10345.000000\n",
       "            175.4     10695.000000\n",
       "            181.7     13499.000000\n",
       "            184.6     13499.000000\n",
       "            180.2     13570.000000\n",
       "            177.3     15250.000000\n",
       "            186.6     15433.333333\n",
       "            187.8     15690.000000\n",
       "            176.6     15700.000000\n",
       "            186.7     15758.571429\n",
       "            175.0     18312.000000\n",
       "            188.8     18726.875000\n",
       "            176.8     18857.500000\n",
       "            192.7     20792.500000\n",
       "            190.9     25552.000000\n",
       "            189.0     27662.500000\n",
       "            202.6     32892.000000\n",
       "            199.6     33900.000000\n",
       "            191.7     36000.000000\n",
       "            197.0     36880.000000\n",
       "            208.1     40960.000000\n",
       "            193.8     41315.000000\n",
       "Name: price, dtype: float64"
      ]
     },
     "execution_count": 13,
     "metadata": {},
     "output_type": "execute_result"
    }
   ],
   "source": [
    "df = df_csv[df_csv[\"body_style\"] == \"sedan\"].groupby([\"body_style\",\"length\"])['price'].mean()\n",
    "df.sort_values()"
   ]
  },
  {
   "cell_type": "code",
   "execution_count": 11,
   "metadata": {
    "collapsed": true
   },
   "outputs": [
    {
     "data": {
      "text/plain": [
       "body_style   length\n",
       "convertible  159.3     11595.0\n",
       "             168.8     14997.5\n",
       "             176.2     17669.0\n",
       "             180.3     35056.0\n",
       "             168.9     37028.0\n",
       "Name: price, dtype: float64"
      ]
     },
     "execution_count": 11,
     "metadata": {},
     "output_type": "execute_result"
    }
   ],
   "source": [
    "df = df_csv[df_csv[\"body_style\"] == \"convertible\"].groupby([\"body_style\",\"length\"])['price'].mean()\n",
    "df.sort_values()"
   ]
  },
  {
   "cell_type": "code",
   "execution_count": 54,
   "metadata": {
    "collapsed": true
   },
   "outputs": [
    {
     "data": {
      "text/plain": [
       "body_style  length\n",
       "hatchback   156.9      5118.000000\n",
       "            141.1      5151.000000\n",
       "            159.1      6028.333333\n",
       "            158.7      6058.000000\n",
       "            155.9      6295.000000\n",
       "            150.0      6352.333333\n",
       "            157.3      6619.333333\n",
       "            144.6      6667.000000\n",
       "            157.9      7053.000000\n",
       "            166.3      7781.333333\n",
       "            165.6      7799.000000\n",
       "            167.5      8495.000000\n",
       "            168.7      8888.000000\n",
       "            173.4      8949.000000\n",
       "            173.0      9229.000000\n",
       "            176.8      9895.000000\n",
       "            165.7      9980.000000\n",
       "            177.8     10228.333333\n",
       "            175.6     10618.000000\n",
       "            176.2     10769.000000\n",
       "            172.6     11048.000000\n",
       "            169.0     13020.000000\n",
       "            173.2     13543.000000\n",
       "            186.6     15013.333333\n",
       "            183.5     16278.000000\n",
       "            171.2     16500.000000\n",
       "            178.4     16503.000000\n",
       "            178.5     18399.000000\n",
       "            170.7     18449.000000\n",
       "            168.9     22018.000000\n",
       "Name: price, dtype: float64"
      ]
     },
     "execution_count": 54,
     "metadata": {},
     "output_type": "execute_result"
    }
   ],
   "source": [
    "df = df_csv[df_csv[\"body_style\"] == \"hatchback\"].groupby([\"body_style\",\"length\"])['price'].mean()\n",
    "df.sort_values()"
   ]
  },
  {
   "cell_type": "markdown",
   "metadata": {},
   "source": [
    "Analisando o preço médio pelo tipo de combustivel e consumo na cidade"
   ]
  },
  {
   "cell_type": "code",
   "execution_count": 14,
   "metadata": {
    "collapsed": true
   },
   "outputs": [
    {
     "data": {
      "text/plain": [
       "fuel_type  city_mpg\n",
       "gas        47.0         5151.000000\n",
       "           35.0         5348.000000\n",
       "           37.0         5511.000000\n",
       "           49.0         6479.000000\n",
       "           38.0         6501.750000\n",
       "           30.0         6797.000000\n",
       "           31.0         6821.592593\n",
       "           32.0         7126.000000\n",
       "           0.0          8195.000000\n",
       "           28.0         8213.500000\n",
       "           29.0         8414.666667\n",
       "           27.0         9334.416667\n",
       "           26.0         9352.000000\n",
       "           25.0         9418.333333\n",
       "           24.0        10808.727273\n",
       "           23.0        11997.416667\n",
       "           21.0        15830.000000\n",
       "           19.0        16248.925926\n",
       "           20.0        18937.666667\n",
       "           18.0        19028.333333\n",
       "           17.0        20738.416667\n",
       "           16.0        31392.000000\n",
       "           15.0        34893.333333\n",
       "           13.0        36000.000000\n",
       "           14.0        43180.000000\n",
       "Name: price, dtype: float64"
      ]
     },
     "execution_count": 14,
     "metadata": {},
     "output_type": "execute_result"
    }
   ],
   "source": [
    "df = df_csv[df_csv[\"fuel_type\"] == \"gas\"].groupby([\"fuel_type\",\"city_mpg\"])['price'].mean()\n",
    "df.sort_values()"
   ]
  },
  {
   "cell_type": "code",
   "execution_count": 15,
   "metadata": {
    "collapsed": true
   },
   "outputs": [
    {
     "data": {
      "text/plain": [
       "fuel_type  city_mpg\n",
       "diesel     45.0         7099.000000\n",
       "           38.0         7788.000000\n",
       "           34.0         7898.000000\n",
       "           37.0         8421.666667\n",
       "           30.0        10698.000000\n",
       "           36.0        10795.000000\n",
       "           33.0        13845.000000\n",
       "           25.0        15467.500000\n",
       "           28.0        16016.666667\n",
       "           31.0        18344.000000\n",
       "           26.0        22470.000000\n",
       "           0.0         28176.000000\n",
       "           22.0        28466.666667\n",
       "Name: price, dtype: float64"
      ]
     },
     "execution_count": 15,
     "metadata": {},
     "output_type": "execute_result"
    }
   ],
   "source": [
    "df = df_csv[df_csv[\"fuel_type\"] == \"diesel\"].groupby([\"fuel_type\",\"city_mpg\"])['price'].mean()\n",
    "df.sort_values()"
   ]
  },
  {
   "cell_type": "markdown",
   "metadata": {},
   "source": [
    "Analisando o preço médio por marca, potência e consumo de combustivel na estrada"
   ]
  },
  {
   "cell_type": "code",
   "execution_count": 7,
   "metadata": {
    "collapsed": true
   },
   "outputs": [
    {
     "data": {
      "text/plain": [
       "horsepower  highway_mpg\n",
       "102         30.0           13950.000000\n",
       "110         25.0           17293.333333\n",
       "115         22.0           17450.000000\n",
       "140         20.0           23875.000000\n",
       "Name: price, dtype: float64"
      ]
     },
     "execution_count": 7,
     "metadata": {},
     "output_type": "execute_result"
    }
   ],
   "source": [
    "df = df_csv[df_csv[\"make\"] == \"audi\"].groupby([\"horsepower\",\"highway_mpg\"])['price'].mean()\n",
    "df.sort_values()"
   ]
  },
  {
   "cell_type": "code",
   "execution_count": 8,
   "metadata": {
    "collapsed": true
   },
   "outputs": [
    {
     "data": {
      "text/plain": [
       "horsepower  highway_mpg\n",
       "101         29.0           16677.5\n",
       "121         28.0           21037.5\n",
       "            25.0           24565.0\n",
       "182         22.0           36037.5\n",
       "            20.0           36880.0\n",
       "Name: price, dtype: float64"
      ]
     },
     "execution_count": 8,
     "metadata": {},
     "output_type": "execute_result"
    }
   ],
   "source": [
    "df = df_csv[df_csv[\"make\"] == \"bmw\"].groupby([\"horsepower\",\"highway_mpg\"])['price'].mean()\n",
    "df.sort_values()"
   ]
  },
  {
   "cell_type": "markdown",
   "metadata": {},
   "source": [
    "Pergunta: Cite um exemplo de pelo menos os 3 cenários propostos que corroboram a leitura dos dados apresentados, justique sua resposta.\n",
    "\n",
    "Resposta: Identificamos que a principal variação de preços dos carros está atrelada a analise do preço médio por marca.\n",
    "Existem outros fatores que colaboram com as variações conforme as analises acima.\n",
    "Analisando pela coluna Lenght verificamos que o preço pode ser impactado por N variaveis, utilizando a variavel Body Type visualizamos que para os carros Sedan na maioria das vezes qto maior o carro maior o preço, salvo algumas exceções. Porém qdo olhamos carros conversiveis o lenght nao influencia no preço.\n",
    "Analisando por tipo de combustivel, verificamos que os veiculos a diesel são mais caros que os veiculos a gás. \n",
    "Dentro outras variaveis analisamos que Marca é um dos atributos que mais influencia na variação de preço dos carros.\n"
   ]
  },
  {
   "cell_type": "markdown",
   "metadata": {},
   "source": []
  },
  {
   "cell_type": "markdown",
   "metadata": {},
   "source": [
    "\n",
    "\n",
    "Preparação dos Dados\n",
    "Identificação de Outliers Visualmente\n",
    "Utilize visualizações gráficas para encontrar outliers em todos os atributos deste dataset. Ainda não vamos remover ou atualizar os valores, por enquanto é uma análise exploratória.\n",
    "\n",
    "Lembre-se que cada atributo possui um valor e dimensão diferente, portanto comparações devem estar em uma mesma base, por exemplo, price não pode ser comparado com width pois os eixos y estarão sem proporção."
   ]
  },
  {
   "cell_type": "code",
   "execution_count": null,
   "metadata": {},
   "outputs": [],
   "source": []
  }
 ],
 "metadata": {
  "kernelspec": {
   "display_name": "Python 3",
   "language": "python",
   "name": "python3"
  },
  "language_info": {
   "codemirror_mode": {
    "name": "ipython",
    "version": 3
   },
   "file_extension": ".py",
   "mimetype": "text/x-python",
   "name": "python",
   "nbconvert_exporter": "python",
   "pygments_lexer": "ipython3",
   "version": "3.6.5"
  }
 },
 "nbformat": 4,
 "nbformat_minor": 2
}
